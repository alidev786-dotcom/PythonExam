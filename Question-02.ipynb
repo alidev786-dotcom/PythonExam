{
 "cells": [
  {
   "cell_type": "code",
   "execution_count": 213,
   "id": "4c3f29a1",
   "metadata": {},
   "outputs": [],
   "source": [
    "############################## QUESTION-02 ############################"
   ]
  },
  {
   "cell_type": "code",
   "execution_count": 214,
   "id": "bed1dfb8",
   "metadata": {},
   "outputs": [],
   "source": [
    "class Calculator:\n",
    "    def __init__(self,first=0,second=0):\n",
    "        '''Constructor method for Calculator class with paramters:\n",
    "        first operand, second operand'''\n",
    "        self.first_num = first\n",
    "        self.second_num = second\n",
    "        self.result = 0\n",
    "        self.power_mode = \"\"\n",
    "    def set_power_mode(self,mode):\n",
    "        '''Sets the mode of power of calculator'''\n",
    "        self.power_mode = mode\n",
    "    def get_power_mode(self):\n",
    "        '''returns the mode of power of calculator'''\n",
    "        return self.power_mode\n",
    "    def set_first_num(self,num1):\n",
    "        '''sets the first operand of calculator'''\n",
    "        self.first_num=num1\n",
    "    def set_second_num(self,num2):\n",
    "        '''sets the second operand of calculator'''\n",
    "        self.second_num=num2\n",
    "    def set_operator(self,opt):\n",
    "        '''sets the operator which need to be performed'''\n",
    "        self.operator=opt\n",
    "    def get_first_num(self):\n",
    "        '''returns the first operand of calculator'''\n",
    "        return self.first_num\n",
    "    def get_second_num(self):\n",
    "        '''returns the second operand of calculator'''\n",
    "        return self.second_num\n",
    "    def add(self):\n",
    "        '''Function to add 2 numbers'''\n",
    "        self.result = self.first_num + self.second_num\n",
    "    def subtract(self):\n",
    "        '''Function to subtract 2 numbers'''\n",
    "        self.result = self.first_num - self.second_num\n",
    "    def multiply(self):\n",
    "        '''Function to multiply 2 numbers'''\n",
    "        self.result = self.first_num * self.second_num\n",
    "    def divide(self):\n",
    "        '''Function to divide 2 numbers'''\n",
    "        self.result = self.first_num / self.second_num\n",
    "    def get_result(self):\n",
    "        '''returns the result of operation'''\n",
    "        return self.result"
   ]
  },
  {
   "cell_type": "code",
   "execution_count": 215,
   "id": "da54d93d",
   "metadata": {},
   "outputs": [
    {
     "name": "stdout",
     "output_type": "stream",
     "text": [
      "10 + 10 : 20\n",
      "10 x 10 : 100\n",
      "Power mode: solar\n"
     ]
    }
   ],
   "source": [
    "myCalc = Calculator(10,10)         #making calculator object with n1=10,n2=10\n",
    "myCalc.set_power_mode(\"solar\")     #sets the power mode of calculator\n",
    "myCalc.add()                       #adds two numbers\n",
    "print(\"{} + {} : {}\".format(myCalc.get_first_num(),myCalc.get_second_num(),myCalc.get_result()))\n",
    "myCalc.multiply()                  #multiply two numbers\n",
    "print(\"{} x {} : {}\".format(myCalc.get_first_num(),myCalc.get_second_num(),myCalc.get_result()))\n",
    "print(\"Power mode: {}\".format(myCalc.get_power_mode()))  #displays power mode\n"
   ]
  },
  {
   "cell_type": "raw",
   "id": "828f22cd",
   "metadata": {},
   "source": [
    "import math\n",
    "class AdvancedCalculator(Calculator):\n",
    "    def __init__(self,first=0,second=0):\n",
    "    '''Constructor for AdvancedCalculator class with parameters:\n",
    "    first operand, second operand'''\n",
    "        super().__init__(first,second)\n",
    "    def sqrt(self):\n",
    "        '''calculates square root of first operand '''\n",
    "        self.result = math.sqrt(self.first_num)\n",
    "    def power(self):\n",
    "        ''' calculates power of first operand to the exponent second\n",
    "        operand'''\n",
    "        self.result = math.pow(self.first_num,self.second_num)\n",
    "    def logarithm(self):\n",
    "        ''' calculates the logarithm of first operand to the base of\n",
    "        second operand'''\n",
    "        self.result = math.log(self.first_num,self.second_num)\n",
    "    def sin(self):\n",
    "        ''' calculates the sin of first operand'''\n",
    "        self.result = math.sin(self.first_num)\n",
    "    def cos(self):\n",
    "        ''' calculates the cos of first operand'''\n",
    "        self.result = math.cos(self.first_num)\n",
    "    def tan(self):\n",
    "        ''' calculates the tan of first operand'''\n",
    "        self.result = math.tan(self.first_num)\n",
    "        \n",
    "        \n",
    "    \n",
    "    \n",
    "    \n",
    "        \n",
    "        "
   ]
  },
  {
   "cell_type": "code",
   "execution_count": 216,
   "id": "5eb90e28",
   "metadata": {},
   "outputs": [
    {
     "name": "stdout",
     "output_type": "stream",
     "text": [
      "Sqrt 10: 3.1622776601683795\n",
      "10 ^ 4 : 10000.0 \n",
      "log of 10 to the base 4 : 1.6609640474436813\n",
      "tan of 10 : 0.6483608274590866\n"
     ]
    }
   ],
   "source": [
    "cal = AdvancedCalculator(10,4)\n",
    "cal.sqrt()\n",
    "print(\"Sqrt {}: {}\".format(cal.get_first_num(),cal.get_result()))\n",
    "cal.power()\n",
    "print(\"{} ^ {} : {} \".format(cal.get_first_num(),cal.get_second_num(),cal.get_result()))\n",
    "cal.logarithm()\n",
    "print(\"log of {} to the base {} : {}\".format(cal.get_first_num(),cal.get_second_num(),cal.get_result()))\n",
    "cal.tan()\n",
    "print(\"tan of {} : {}\".format(cal.get_first_num(),cal.get_result()))"
   ]
  }
 ],
 "metadata": {
  "kernelspec": {
   "display_name": "Python 3 (ipykernel)",
   "language": "python",
   "name": "python3"
  },
  "language_info": {
   "codemirror_mode": {
    "name": "ipython",
    "version": 3
   },
   "file_extension": ".py",
   "mimetype": "text/x-python",
   "name": "python",
   "nbconvert_exporter": "python",
   "pygments_lexer": "ipython3",
   "version": "3.9.7"
  }
 },
 "nbformat": 4,
 "nbformat_minor": 5
}
